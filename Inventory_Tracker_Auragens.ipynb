{
  "nbformat": 4,
  "nbformat_minor": 0,
  "metadata": {
    "colab": {
      "provenance": [],
      "authorship_tag": "ABX9TyOOZLxlmBHBNeOLPJwoF2s1",
      "include_colab_link": true
    },
    "kernelspec": {
      "name": "python3",
      "display_name": "Python 3"
    },
    "language_info": {
      "name": "python"
    }
  },
  "cells": [
    {
      "cell_type": "markdown",
      "metadata": {
        "id": "view-in-github",
        "colab_type": "text"
      },
      "source": [
        "<a href=\"https://colab.research.google.com/github/SampleBias/Inventory_tracker/blob/main/Inventory_Tracker_Auragens.ipynb\" target=\"_parent\"><img src=\"https://colab.research.google.com/assets/colab-badge.svg\" alt=\"Open In Colab\"/></a>"
      ]
    },
    {
      "cell_type": "code",
      "source": [
        "from datetime import datetime\n",
        "\n",
        "# Translations for English (en) and Spanish (es)\n",
        "translations = {\n",
        "    'en': {\n",
        "        'current_inventory': \"\\nCurrent Inventory:\",\n",
        "        'item': 'Item',\n",
        "        'quantity': 'Quantity',\n",
        "        'par_level': 'Par Level',\n",
        "        'last_updated': 'Last Updated',\n",
        "        'enter_action': \"\\nDo you want to add/update, remove, or quit? (add/update/remove/quit): \",\n",
        "        'enter_item_name': \"Enter item name: \",\n",
        "        'enter_quantity': \"Enter quantity: \",\n",
        "        'enter_par_level': \"Enter par level: \",\n",
        "        'item_added_updated': \"Item '{}' added/updated. Quantity: {}, Par Level: {}, Last Updated: {}\",\n",
        "        'item_removed': \"Item '{}' removed on {}.\",\n",
        "        'item_not_found': \"Item not found.\",\n",
        "        'invalid_action': \"Invalid action.\"\n",
        "    },\n",
        "    'es': {\n",
        "        'current_inventory': \"\\nInventario Actual:\",\n",
        "        'item': 'Artículo',\n",
        "        'quantity': 'Cantidad',\n",
        "        'par_level': 'Nivel Mínimo',\n",
        "        'last_updated': 'Última Actualización',\n",
        "        'enter_action': \"\\n¿Qué desea hacer: agregar/actualizar, eliminar o salir? (agregar/actualizar/eliminar/salir): \",\n",
        "        'enter_item_name': \"Ingrese el nombre del artículo: \",\n",
        "        'enter_quantity': \"Ingrese la cantidad: \",\n",
        "        'enter_par_level': \"Ingrese el nivel mínimo: \",\n",
        "        'item_added_updated': \"Artículo '{}' agregado/actualizado. Cantidad: {}, Nivel Mínimo: {}, Última Actualización: {}\",\n",
        "        'item_removed': \"Artículo '{}' eliminado el {}.\",\n",
        "        'item_not_found': \"Artículo no encontrado.\",\n",
        "        'invalid_action': \"Acción inválida.\"\n",
        "    }\n",
        "}\n",
        "\n",
        "class InventoryTracker:\n",
        "    def __init__(self, lang='en'):\n",
        "        self.items = {}  # Format: 'item_name': (quantity, par, last_updated)\n",
        "        self.lang = lang\n",
        "\n",
        "    def tr(self, key):\n",
        "        \"\"\"Translate text based on selected language.\"\"\"\n",
        "        return translations[self.lang].get(key, key)\n",
        "\n",
        "    def add_or_update_item(self, item_name, quantity, par):\n",
        "        last_updated = datetime.now().strftime(\"%Y-%m-%d %H:%M:%S\")\n",
        "        self.items[item_name] = (quantity, par, last_updated)\n",
        "        print(self.tr('item_added_updated').format(item_name, quantity, par, last_updated))\n",
        "\n",
        "    def remove_item(self, item_name):\n",
        "        if item_name in self.items:\n",
        "            del self.items[item_name]\n",
        "            print(self.tr('item_removed').format(item_name, datetime.now().strftime('%Y-%m-%d %H:%M:%S')))\n",
        "        else:\n",
        "            print(self.tr('item_not_found'))\n",
        "\n",
        "    def display_inventory(self):\n",
        "        print(self.tr('current_inventory'))\n",
        "        print(\"{:<20} {:<10} {:<10} {:<20}\".format(self.tr('item'), self.tr('quantity'), self.tr('par_level'), self.tr('last_updated')))\n",
        "        for item, (quantity, par, last_updated) in self.items.items():\n",
        "            print(\"{:<20} {:<10} {:<10} {:<20}\".format(item, quantity, par, last_updated))\n",
        "\n",
        "    def update_inventory(self):\n",
        "        while True:\n",
        "            action = input(self.tr('enter_action')).lower()\n",
        "            if action == 'quit' or action == 'salir':\n",
        "                break\n",
        "            elif action in ['add', 'update', 'remove', 'agregar', 'actualizar', 'eliminar']:\n",
        "                item_name = input(self.tr('enter_item_name'))\n",
        "                if action == 'remove' or action == 'eliminar':\n",
        "                    self.remove_item(item_name)\n",
        "                else:\n",
        "                    quantity = int(input(self.tr('enter_quantity')))\n",
        "                    par = int(input(self.tr('enter_par_level')))\n",
        "                    self.add_or_update_item(item_name, quantity, par)\n",
        "            else:\n",
        "                print(self.tr('invalid_action'))\n",
        "            self.display_inventory()\n",
        "\n",
        "# Usage example\n",
        "language = input(\"Select language (English='en', Spanish='es'): \").lower()\n",
        "inventory_tracker = InventoryTracker(lang=language)\n",
        "inventory_tracker.display_inventory()\n",
        "inventory_tracker.update_inventory()\n"
      ],
      "metadata": {
        "id": "mQlPIabUR-oO"
      },
      "execution_count": null,
      "outputs": []
    }
  ]
}